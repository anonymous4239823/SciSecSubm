{
 "cells": [
  {
   "cell_type": "code",
   "execution_count": 2,
   "id": "3224c17d-088c-4cde-9ae7-0a4222e95560",
   "metadata": {},
   "outputs": [],
   "source": [
    "# imports etc.\n",
    "\n",
    "import sys, os\n",
    "sys.path.append(os.path.abspath('../'))\n",
    "\n",
    "from src.utils.flow import *\n",
    "from src.utils.flow_calculations import *\n",
    "from src.utils.restoration import *\n",
    "from src.utils.truncated_packet import *\n",
    "from src.operations.size_perturbation_logic import *\n",
    "from src.operations.timing_perturbation_logic import *\n",
    "from src.operations.calculate_fitness import *"
   ]
  },
  {
   "cell_type": "code",
   "execution_count": 3,
   "id": "1bb5245c-dbc9-4c57-b9b5-7c9999480fbf",
   "metadata": {},
   "outputs": [],
   "source": [
    "# data preparation"
   ]
  },
  {
   "cell_type": "code",
   "execution_count": 4,
   "id": "d50dc296-e750-45ef-9282-fb61c6fa032a",
   "metadata": {},
   "outputs": [],
   "source": [
    "captures = [\n",
    "    \"botnet-capture-20110811-neris\",\n",
    "    \"botnet-capture-20110812-rbot\",\n",
    "    \"botnet-capture-20110815-fast-flux-2\",\n",
    "    \"botnet-capture-20110815-fast-flux\",\n",
    "    \"botnet-capture-20110815-rbot-dos\",\n",
    "    \"botnet-capture-20110816-donbot\",\n",
    "    \"botnet-capture-20110816-qvod\",\n",
    "    \"botnet-capture-20110816-sogou\",\n",
    "    \"botnet-capture-20110817-bot\",\n",
    "    \"botnet-capture-20110818-bot-2\",\n",
    "    \"botnet-capture-20110819-bot\"\n",
    "]"
   ]
  },
  {
   "cell_type": "code",
   "execution_count": 6,
   "id": "3637cc25-b862-418c-b880-574b4d76a654",
   "metadata": {},
   "outputs": [
    {
     "name": "stdout",
     "output_type": "stream",
     "text": [
      "Working on capture: botnet-capture-20110811-neris\n",
      "Total packets loaded: 4955\n",
      "hash groups: 593\n",
      "Working on capture: botnet-capture-20110812-rbot\n",
      "Total packets loaded: 4958\n",
      "hash groups: 449\n",
      "Working on capture: botnet-capture-20110815-fast-flux-2\n",
      "Total packets loaded: 4973\n",
      "hash groups: 366\n",
      "Working on capture: botnet-capture-20110815-fast-flux\n",
      "Total packets loaded: 4968\n",
      "hash groups: 139\n",
      "Working on capture: botnet-capture-20110815-rbot-dos\n",
      "Total packets loaded: 2653\n",
      "hash groups: 85\n",
      "Working on capture: botnet-capture-20110816-donbot\n",
      "Total packets loaded: 4952\n",
      "hash groups: 657\n",
      "Working on capture: botnet-capture-20110816-qvod\n",
      "Total packets loaded: 4943\n",
      "hash groups: 57\n",
      "Working on capture: botnet-capture-20110816-sogou\n",
      "Total packets loaded: 4997\n",
      "hash groups: 35\n",
      "Working on capture: botnet-capture-20110817-bot\n",
      "Total packets loaded: 4843\n",
      "hash groups: 145\n",
      "Working on capture: botnet-capture-20110818-bot-2\n",
      "Total packets loaded: 1200\n",
      "hash groups: 242\n",
      "Working on capture: botnet-capture-20110819-bot\n",
      "Total packets loaded: 4940\n",
      "hash groups: 62\n",
      "Mean flows calculated:\n",
      "[[{'pkt_len_std': 88.21473739146022, 'fwd_pkt_len_min': 63.6453781512605, 'fwd_pkt_len_mean': 78.240648663225, 'pkt_len_mean': 122.691339727011, 'bwd_pkt_len_std': 85.31012035835269, 'tot_fwd_pkts': 4.739495798319328, 'fwd_pkt_len_max': 144.39495798319328, 'tot_bwd_pkts': 3.588235294117647, 'fwd_pkt_len_std': 28.79307222931288, 'totlen_bwd_pkts': 4560.900840336134, 'bwd_pkt_len_mean': 123.88495153070231, 'bwd_pkt_len_min': 18.06218487394958, 'bwd_pkt_len_max': 314.06050420168066, 'totlen_fwd_pkts': 431.4252100840336}, {'flow_iat_mean': 387698.5210344555, 'fwd_iat_std': 480626.08403083775, 'bwd_iat_max': 944447.1008403362, 'flow_iat_min': 192619.71092436975, 'bwd_iat_tot': 0.0, 'bwd_iat_min': 7309.83193277311, 'fwd_iat_max': 2002384.2, 'bwd_iat_mean': 169254.91505311072, 'fwd_iat_tot': 0.0, 'flow_iat_max': 1996216.9579831932, 'bwd_iat_std': 273571.0981114326, 'fwd_iat_min': 190349.51764705882, 'flow_iat_std': 397443.43471702706, 'fwd_iat_mean': 465726.1911383916}], [{'pkt_len_std': 0.8232660240668491, 'fwd_pkt_len_min': 60.265517241379314, 'fwd_pkt_len_mean': 60.62094805310523, 'pkt_len_mean': 60.83142335534725, 'bwd_pkt_len_std': 0.6168902774037192, 'tot_fwd_pkts': 4.068965517241379, 'fwd_pkt_len_max': 61.59770114942529, 'tot_bwd_pkts': 1.6298850574712644, 'fwd_pkt_len_std': 0.5180668551395414, 'totlen_bwd_pkts': 115.53103448275863, 'bwd_pkt_len_mean': 30.72766493465595, 'bwd_pkt_len_min': 30.297701149425286, 'bwd_pkt_len_max': 32.13908045977011, 'totlen_fwd_pkts': 248.65977011494252}, {'flow_iat_mean': 542591.8324483754, 'fwd_iat_std': 213128.0205599739, 'bwd_iat_max': 678358.8011494253, 'flow_iat_min': 395721.8045977011, 'bwd_iat_tot': 0.0, 'bwd_iat_min': 10730.844827586207, 'fwd_iat_max': 994081.5137931034, 'bwd_iat_mean': 276685.9200871978, 'fwd_iat_tot': 0.0, 'flow_iat_max': 994751.9586206897, 'bwd_iat_std': 278024.6291536784, 'fwd_iat_min': 396508.34252873564, 'flow_iat_std': 190971.06147443308, 'fwd_iat_mean': 597220.8132219324}], [{'pkt_len_std': 76.71481740053378, 'fwd_pkt_len_min': 65.63118811881188, 'fwd_pkt_len_mean': 72.45423812224585, 'pkt_len_mean': 112.10026265444272, 'bwd_pkt_len_std': 41.60679937281049, 'tot_fwd_pkts': 8.893564356435643, 'fwd_pkt_len_max': 107.63861386138613, 'tot_bwd_pkts': 3.4158415841584158, 'fwd_pkt_len_std': 12.81191766088279, 'totlen_bwd_pkts': 2515.7153465346537, 'bwd_pkt_len_mean': 159.7813350562311, 'bwd_pkt_len_min': 103.23019801980197, 'bwd_pkt_len_max': 261.9975247524753, 'totlen_fwd_pkts': 836.009900990099}, {'flow_iat_mean': 932147.3725872465, 'fwd_iat_std': 1587847.7034958084, 'bwd_iat_max': 2074756.5173267326, 'flow_iat_min': 6.611386138613861, 'bwd_iat_tot': 0.0, 'bwd_iat_min': 10890.413366336634, 'fwd_iat_max': 5076839.559405941, 'bwd_iat_mean': 296323.2692429525, 'fwd_iat_tot': 0.0, 'flow_iat_max': 5092983.212871287, 'bwd_iat_std': 570377.2593123652, 'fwd_iat_min': 6.643564356435643, 'flow_iat_std': 1516999.9921940863, 'fwd_iat_mean': 973663.2265530692}], [{'pkt_len_std': 199.97039716226635, 'fwd_pkt_len_min': 62.901869158878505, 'fwd_pkt_len_mean': 145.64683974407868, 'pkt_len_mean': 185.81302094481407, 'bwd_pkt_len_std': 208.83059972047883, 'tot_fwd_pkts': 16.827102803738317, 'fwd_pkt_len_max': 360.1261682242991, 'tot_bwd_pkts': 6.38785046728972, 'fwd_pkt_len_std': 105.93801360681557, 'totlen_bwd_pkts': 5989.677570093458, 'bwd_pkt_len_mean': 237.01816348116625, 'bwd_pkt_len_min': 25.518691588785046, 'bwd_pkt_len_max': 695.4532710280374, 'totlen_fwd_pkts': 6830.186915887851}, {'flow_iat_mean': 588477.050921783, 'fwd_iat_std': 1136876.9674194437, 'bwd_iat_max': 1586426.1588785048, 'flow_iat_min': 967.0327102803739, 'bwd_iat_tot': 0.0, 'bwd_iat_min': 13706.920560747663, 'fwd_iat_max': 3749661.051401869, 'bwd_iat_mean': 335985.4055803043, 'fwd_iat_tot': 0.0, 'flow_iat_max': 3725176.7990654204, 'bwd_iat_std': 500576.53003138903, 'fwd_iat_min': 337.6448598130841, 'flow_iat_std': 1060939.7243138573, 'fwd_iat_mean': 653358.3063119517}], [{'pkt_len_std': 13.936478078885228, 'fwd_pkt_len_min': 92.76744186046511, 'fwd_pkt_len_mean': 94.51581395348836, 'pkt_len_mean': 89.88978352542681, 'bwd_pkt_len_std': 8.76839159277561, 'tot_fwd_pkts': 28.593023255813954, 'fwd_pkt_len_max': 98.56976744186046, 'tot_bwd_pkts': 2.255813953488372, 'fwd_pkt_len_std': 1.7058267459430319, 'totlen_bwd_pkts': 286.69767441860466, 'bwd_pkt_len_mean': 60.50123326286116, 'bwd_pkt_len_min': 55.872093023255815, 'bwd_pkt_len_max': 93.54651162790698, 'totlen_fwd_pkts': 40252.023255813954}, {'flow_iat_mean': 617798.4193111487, 'fwd_iat_std': 900720.9155916516, 'bwd_iat_max': 2184557.38372093, 'flow_iat_min': 11767.802325581395, 'bwd_iat_tot': 0.0, 'bwd_iat_min': 370547.3023255814, 'fwd_iat_max': 2696009.069767442, 'bwd_iat_mean': 693958.958265242, 'fwd_iat_tot': 0.0, 'flow_iat_max': 3066797.6511627906, 'bwd_iat_std': 559318.3917937359, 'fwd_iat_min': 11632.06976744186, 'flow_iat_std': 978736.4958868641, 'fwd_iat_mean': 538843.543829987}], [{'pkt_len_std': 27.691072915785227, 'fwd_pkt_len_min': 62.86217008797654, 'fwd_pkt_len_mean': 64.33389466900861, 'pkt_len_mean': 74.92425782887886, 'bwd_pkt_len_std': 39.97879034249014, 'tot_fwd_pkts': 5.555718475073314, 'fwd_pkt_len_max': 73.0791788856305, 'tot_bwd_pkts': 1.7052785923753666, 'fwd_pkt_len_std': 3.1980562683794265, 'totlen_bwd_pkts': 2216.090909090909, 'bwd_pkt_len_mean': 39.58753310431007, 'bwd_pkt_len_min': 5.887096774193548, 'bwd_pkt_len_max': 106.64956011730206, 'totlen_fwd_pkts': 366.7434017595308}, {'flow_iat_mean': 658552.9198515806, 'fwd_iat_std': 931064.7231810932, 'bwd_iat_max': 27448.637829912022, 'flow_iat_min': 6.829912023460411, 'bwd_iat_tot': 0.0, 'bwd_iat_min': 6878.535190615836, 'fwd_iat_max': 2131284.640762463, 'bwd_iat_mean': 9852.079930821803, 'fwd_iat_tot': 0.0, 'flow_iat_max': 2131929.8181818184, 'bwd_iat_std': 4203.9203142124725, 'fwd_iat_min': 7.310850439882698, 'flow_iat_std': 926124.84795553, 'fwd_iat_mean': 662670.2367288942}], [{'pkt_len_std': 163.75698418848364, 'fwd_pkt_len_min': 65.2439024390244, 'fwd_pkt_len_mean': 81.9027729218449, 'pkt_len_mean': 143.6804338450508, 'bwd_pkt_len_std': 216.7539884451665, 'tot_fwd_pkts': 41.18292682926829, 'fwd_pkt_len_max': 155.17073170731706, 'tot_bwd_pkts': 19.097560975609756, 'fwd_pkt_len_std': 32.954780591557224, 'totlen_bwd_pkts': 34615.45121951219, 'bwd_pkt_len_mean': 272.7551631890513, 'bwd_pkt_len_min': 42.3780487804878, 'bwd_pkt_len_max': 702.2926829268292, 'totlen_fwd_pkts': 2943.2926829268295}, {'flow_iat_mean': 2616561.5334202037, 'fwd_iat_std': 7320277.064220117, 'bwd_iat_max': 19688896.926829267, 'flow_iat_min': 1448.5487804878048, 'bwd_iat_tot': 0.0, 'bwd_iat_min': 85863.73170731707, 'fwd_iat_max': 25485671.085365854, 'bwd_iat_mean': 5560864.510708501, 'fwd_iat_tot': 0.0, 'flow_iat_max': 27173931.32926829, 'bwd_iat_std': 8042821.2492692545, 'fwd_iat_min': 1448.5121951219512, 'flow_iat_std': 6927467.370299989, 'fwd_iat_mean': 3054189.422673516}], [{'pkt_len_std': 403.1127585198987, 'fwd_pkt_len_min': 61.47727272727273, 'fwd_pkt_len_mean': 92.5580663149384, 'pkt_len_mean': 275.49796888598814, 'bwd_pkt_len_std': 463.8442933502711, 'tot_fwd_pkts': 77.95454545454545, 'fwd_pkt_len_max': 247.4318181818182, 'tot_bwd_pkts': 35.61363636363637, 'fwd_pkt_len_std': 63.3913744772309, 'totlen_bwd_pkts': 81533.20454545454, 'bwd_pkt_len_mean': 715.5322617201701, 'bwd_pkt_len_min': 52.36363636363637, 'bwd_pkt_len_max': 1823.3636363636363, 'totlen_fwd_pkts': 5887.045454545455}, {'flow_iat_mean': 610396.1219573014, 'fwd_iat_std': 2019734.437280933, 'bwd_iat_max': 2893766.9318181816, 'flow_iat_min': 10997.568181818182, 'bwd_iat_tot': 0.0, 'bwd_iat_min': 260208.56818181818, 'fwd_iat_max': 7508503.795454546, 'bwd_iat_mean': 787102.6977789915, 'fwd_iat_tot': 0.0, 'flow_iat_max': 7521131.4772727275, 'bwd_iat_std': 859707.5976850588, 'fwd_iat_min': 5.840909090909091, 'flow_iat_std': 1766057.49829564, 'fwd_iat_mean': 771320.0209592021}], [{'pkt_len_std': 121.58074484627484, 'fwd_pkt_len_min': 70.85310734463278, 'fwd_pkt_len_mean': 89.32844035328029, 'pkt_len_mean': 130.34115282456804, 'bwd_pkt_len_std': 106.21343075221868, 'tot_fwd_pkts': 16.231638418079097, 'fwd_pkt_len_max': 179.61016949152543, 'tot_bwd_pkts': 11.129943502824858, 'fwd_pkt_len_std': 35.19028892130652, 'totlen_bwd_pkts': 8981.214689265536, 'bwd_pkt_len_mean': 194.8893884309807, 'bwd_pkt_len_min': 34.536723163841806, 'bwd_pkt_len_max': 456.2598870056497, 'totlen_fwd_pkts': 1377.3785310734463}, {'flow_iat_mean': 727554.4206898933, 'fwd_iat_std': 1329488.5624035622, 'bwd_iat_max': 1909861.1807909606, 'flow_iat_min': 6.112994350282486, 'bwd_iat_tot': 0.0, 'bwd_iat_min': 63962.853107344636, 'fwd_iat_max': 3763041.2881355933, 'bwd_iat_mean': 483419.86207594303, 'fwd_iat_tot': 0.0, 'flow_iat_max': 3718761.5762711866, 'bwd_iat_std': 623374.3933020926, 'fwd_iat_min': 12904.881355932202, 'flow_iat_std': 1202036.60725563, 'fwd_iat_mean': 913194.6444885817}], [{'pkt_len_std': 16.589093971354604, 'fwd_pkt_len_min': 78.78775510204082, 'fwd_pkt_len_mean': 82.0980012874715, 'pkt_len_mean': 76.9353350060413, 'bwd_pkt_len_std': 11.98751774071517, 'tot_fwd_pkts': 2.6653061224489796, 'fwd_pkt_len_max': 90.35102040816327, 'tot_bwd_pkts': 2.23265306122449, 'fwd_pkt_len_std': 4.19844267550955, 'totlen_bwd_pkts': 264.1551020408163, 'bwd_pkt_len_mean': 64.82282003710574, 'bwd_pkt_len_min': 55.40816326530612, 'bwd_pkt_len_max': 94.24897959183673, 'totlen_fwd_pkts': 282.7673469387755}, {'flow_iat_mean': 449606.4885508053, 'fwd_iat_std': 1241323.605359664, 'bwd_iat_max': 1581593.412244898, 'flow_iat_min': 4089.489795918367, 'bwd_iat_tot': 0.0, 'bwd_iat_min': 27572.914285714287, 'fwd_iat_max': 4787062.379591837, 'bwd_iat_mean': 347460.26205854776, 'fwd_iat_tot': 0.0, 'flow_iat_max': 4786823.828571429, 'bwd_iat_std': 544395.7099412446, 'fwd_iat_min': 4084.444897959183, 'flow_iat_std': 1162516.7583587077, 'fwd_iat_mean': 510045.69719929073}], [{'pkt_len_std': 399.95194116171683, 'fwd_pkt_len_min': 68.97101449275362, 'fwd_pkt_len_mean': 155.82469844733603, 'pkt_len_mean': 274.20178654868016, 'bwd_pkt_len_std': 494.08207581725867, 'tot_fwd_pkts': 51.594202898550726, 'fwd_pkt_len_max': 381.3623188405797, 'tot_bwd_pkts': 20.0, 'fwd_pkt_len_std': 117.79543406670034, 'totlen_bwd_pkts': 47656.24637681159, 'bwd_pkt_len_mean': 625.0345382079888, 'bwd_pkt_len_min': 46.56521739130435, 'bwd_pkt_len_max': 1564.6811594202898, 'totlen_fwd_pkts': 4800.971014492754}, {'flow_iat_mean': 496203.25706187106, 'fwd_iat_std': 590565.780404042, 'bwd_iat_max': 1264705.5217391304, 'flow_iat_min': 293162.2028985507, 'bwd_iat_tot': 0.0, 'bwd_iat_min': 99101.91304347826, 'fwd_iat_max': 2707797.6231884058, 'bwd_iat_mean': 317073.5375686791, 'fwd_iat_tot': 0.0, 'flow_iat_max': 2660035.9855072466, 'bwd_iat_std': 345716.5783533092, 'fwd_iat_min': 293167.97101449274, 'flow_iat_std': 516458.3732890392, 'fwd_iat_mean': 552044.6641222723}]]\n"
     ]
    }
   ],
   "source": [
    "# for each capture mean flow which will be tested on the corresponding model\n",
    "\n",
    "import numpy as np\n",
    "\n",
    "def mean_dicts(dicts):\n",
    "    # Get all keys from all dictionaries\n",
    "    keys = set(k for d in dicts for k in d)\n",
    "    # Initialize a new dictionary to store mean values\n",
    "    mean_dict = {}\n",
    "    for key in keys:\n",
    "        # Calculate the mean for each key\n",
    "        mean_dict[key] = np.mean([d[key] for d in dicts if key in d])\n",
    "    return mean_dict\n",
    "\n",
    "mean_flows = []\n",
    "\n",
    "for i in range(len(captures)):\n",
    "    print(f'Working on capture: {captures[i]}')\n",
    "\n",
    "    pcap_file_path = f'../data/raw/filtered/{captures[i]}.pcap'\n",
    "    model_name = f'{captures[i]}'\n",
    "\n",
    "    # Load truncated packets from pcap file\n",
    "    truncated_packets = create_truncated_packets_from_pcap(pcap_file_path)\n",
    "    print(f\"Total packets loaded: {len(truncated_packets)}\")\n",
    "\n",
    "    # Assign flow IDs to packets\n",
    "    truncated_packets = assign_flow_ids_to_packets(truncated_packets)\n",
    "\n",
    "    # Extract unique flow IDs\n",
    "    flow_ids = set(packet.flow_id for packet in truncated_packets)\n",
    "    flows = []\n",
    "\n",
    "    for fid in flow_ids:\n",
    "        # For each flow ID, prepare statistical values and append to the list\n",
    "        sizing_stats = prepare_size_stats(truncated_packets, fid)\n",
    "        timing_stats = prepare_timing_stats(truncated_packets, fid)\n",
    "        flow_parameters = [sizing_stats, timing_stats]\n",
    "        flows.append(flow_parameters)\n",
    "    \n",
    "    # Calculate mean values for sizing_stats and timing_stats\n",
    "    mean_sizing_stats = mean_dicts([flow[0] for flow in flows])\n",
    "    mean_timing_stats = mean_dicts([flow[1] for flow in flows])\n",
    "    \n",
    "    # Add mean values to mean_flows\n",
    "    mean_flows.append([mean_sizing_stats, mean_timing_stats])\n",
    "\n",
    "print(\"Mean flows calculated:\")\n",
    "print(mean_flows)\n",
    "\n",
    "\n",
    "            "
   ]
  },
  {
   "cell_type": "code",
   "execution_count": null,
   "id": "b6f67b5a-c806-4215-bc08-9cadccfff1c9",
   "metadata": {},
   "outputs": [],
   "source": [
    "# IN ORDER TO PREDICT (FOR TARGET MODEL): predict_single_flow_target(model_name, flow_parameters[0], flow_parametrs[1])"
   ]
  },
  {
   "cell_type": "code",
   "execution_count": null,
   "id": "0053200e-6df9-47b6-878e-5c5055b14c02",
   "metadata": {},
   "outputs": [],
   "source": [
    "# data testing"
   ]
  },
  {
   "cell_type": "code",
   "execution_count": null,
   "id": "de40a80e-1a71-405c-99d6-3f833ab33b83",
   "metadata": {},
   "outputs": [],
   "source": [
    "# target values"
   ]
  },
  {
   "cell_type": "code",
   "execution_count": null,
   "id": "24bac50c-0af7-4cc2-90b1-43306a9dba34",
   "metadata": {},
   "outputs": [],
   "source": [
    "# "
   ]
  },
  {
   "cell_type": "code",
   "execution_count": null,
   "id": "6b54749f-1fed-4a15-9aca-76dcb0181ed0",
   "metadata": {},
   "outputs": [],
   "source": [
    "# xai preparation & perturbation functions\n",
    "\n",
    "# \n",
    "\n",
    "#adjust_packet_size(packets, flow_id, params['direction'], 'normal', params['scaling_factor'], params['focus_point'])\n",
    "#adjust_packet_size(packets, flow_id, params['direction'], 'uniform', params['scaling_factor'], params['focus_point'])\n",
    "#apply_time_perturbation_with_focus(packets, flow_id, 'normal', params['focus_point'], params['scaling_factor'])\n",
    "#apply_time_perturbation_with_focus(packets, flow_id, 'uniform', params['focus_point'], params['scaling_factor'])\n"
   ]
  },
  {
   "cell_type": "code",
   "execution_count": null,
   "id": "9353575d-f22b-40b0-bc13-fb4525669d2e",
   "metadata": {},
   "outputs": [],
   "source": [
    "# xai visualizations"
   ]
  },
  {
   "cell_type": "code",
   "execution_count": null,
   "id": "9117d4e2-db20-466a-8248-1adf3c5d4678",
   "metadata": {},
   "outputs": [],
   "source": [
    "# final cost analysis visualization"
   ]
  }
 ],
 "metadata": {
  "kernelspec": {
   "display_name": "Python 3 (ipykernel)",
   "language": "python",
   "name": "python3"
  },
  "language_info": {
   "codemirror_mode": {
    "name": "ipython",
    "version": 3
   },
   "file_extension": ".py",
   "mimetype": "text/x-python",
   "name": "python",
   "nbconvert_exporter": "python",
   "pygments_lexer": "ipython3",
   "version": "3.11.0"
  }
 },
 "nbformat": 4,
 "nbformat_minor": 5
}
