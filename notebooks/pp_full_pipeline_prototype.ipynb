{
 "cells": [
  {
   "cell_type": "code",
   "execution_count": 1,
   "metadata": {},
   "outputs": [],
   "source": [
    "import sys, os\n",
    "sys.path.append(os.path.abspath('../'))"
   ]
  },
  {
   "cell_type": "code",
   "execution_count": 2,
   "metadata": {},
   "outputs": [
    {
     "name": "stderr",
     "output_type": "stream",
     "text": [
      "WARNING: No IPv4 address found on anpi0 !\n",
      "WARNING: No IPv4 address found on anpi1 !\n",
      "WARNING: more No IPv4 address found on en3 !\n"
     ]
    },
    {
     "name": "stdout",
     "output_type": "stream",
     "text": [
      "{'mean': 0.050729411552346566, 'min': 2e-06, 'max': 1.638539, 'std': 0.16143004716714476}\n",
      "{'mean': 107.18705035971223, 'min': 54, 'max': 1257, 'std': 119.25603122436179}\n",
      "{'mean': 27.175787578757877, 'min': 0.0, 'max': 239.0, 'std': 72.62983692766008}\n",
      "{'mean': 375.0, 'min': 375.0, 'max': 375.0, 'std': 0.0}\n"
     ]
    }
   ],
   "source": [
    "# saved files testing\n",
    "from src.utils.flow import *\n",
    "from src.utils.flow_calculations import *\n",
    "from src.utils.restoration import *\n",
    "from src.utils.truncated_packet import *\n",
    "from src.operations.size_perturbation_logic import *\n",
    "from src.operations.timing_perturbation_logic import *\n",
    "\n",
    "modified_pcap_path = \"../data/interim/testing_small_perturbed.pcapng\"\n",
    "pcap_file_path = '../data/raw/testing_small.pcapng'\n",
    "\n",
    "\n",
    "\n",
    "truncated_packets = create_truncated_packets_from_pcap(pcap_file_path)\n",
    "truncated_packets = assign_flow_ids_to_packets(truncated_packets)\n",
    "flow_id = 1\n",
    "\n",
    "print(calculate_delta_time_statistics(flow_id, truncated_packets, direction=0))\n",
    "print(calculate_size_statistics(flow_id, truncated_packets, direction=0))\n",
    "\n",
    "truncated_packets = apply_time_perturbation_with_focus(truncated_packets, flow_id, method=\"uniform\", scaling_factor=100000.0)\n",
    "#truncated_packets = apply_time_perturbation_with_focus(truncated_packets, 8, focus_point=\"start\", method=\"normal\", scaling_factor=5.1)\n",
    "\n",
    "truncated_packets = adjust_packet_size(truncated_packets, flow_id, method=\"uniform\", scaling_factor=1000.0, direction= 0)\n",
    "truncated_packets = adjust_packet_size(truncated_packets, flow_id, method=\"uniform\", scaling_factor=0.0001, direction = 0)\n",
    "\n",
    "print(calculate_delta_time_statistics(flow_id, truncated_packets, direction=0))\n",
    "print(calculate_size_statistics(flow_id, truncated_packets, direction=0))\n",
    "\n",
    "modify_and_write_packets_one_by_one(pcap_file_path, modified_pcap_path, truncated_packets)"
   ]
  },
  {
   "cell_type": "code",
   "execution_count": null,
   "metadata": {},
   "outputs": [],
   "source": []
  }
 ],
 "metadata": {
  "kernelspec": {
   "display_name": "cyberaml",
   "language": "python",
   "name": "python3"
  },
  "language_info": {
   "codemirror_mode": {
    "name": "ipython",
    "version": 3
   },
   "file_extension": ".py",
   "mimetype": "text/x-python",
   "name": "python",
   "nbconvert_exporter": "python",
   "pygments_lexer": "ipython3",
   "version": "3.11.5"
  }
 },
 "nbformat": 4,
 "nbformat_minor": 2
}
