{
 "cells": [
  {
   "cell_type": "code",
   "execution_count": 3,
   "id": "3f167f01-cada-4cb6-964f-2f16d2d229d8",
   "metadata": {},
   "outputs": [],
   "source": [
    "import sys, os\n",
    "sys.path.append(os.path.abspath('../'))"
   ]
  },
  {
   "cell_type": "code",
   "execution_count": 9,
   "id": "28457e0e-eead-438c-97eb-46658633e29c",
   "metadata": {},
   "outputs": [],
   "source": [
    "from src.utils.flow import *\n",
    "from src.utils.flow_calculations import *\n",
    "from src.utils.restoration import *\n",
    "from src.utils.truncated_packet import *\n",
    "from src.operations.size_perturbation_logic import *\n",
    "from src.operations.timing_perturbation_logic import *\n",
    "from src.operations.calculate_fitness import *"
   ]
  },
  {
   "cell_type": "code",
   "execution_count": 1,
   "id": "c086f9ba-7152-42ba-ae6f-664d7570da36",
   "metadata": {},
   "outputs": [],
   "source": [
    "from scapy.all import rdpcap, wrpcap\n",
    "import os\n",
    "\n",
    "def filter_all_pcap_in_directory(directory, packet_count):\n",
    "    # Check if the directory exists\n",
    "    if not os.path.isdir(directory):\n",
    "        raise NotADirectoryError(\"The specified directory does not exist.\")\n",
    "    \n",
    "    # Create a subdirectory for filtered files\n",
    "    filtered_dir = os.path.join(directory, \"filtered\")\n",
    "    if not os.path.exists(filtered_dir):\n",
    "        os.makedirs(filtered_dir)\n",
    "    \n",
    "    # List all pcap files in the directory\n",
    "    pcap_files = [f for f in os.listdir(directory) if f.endswith('.pcap')]\n",
    "    \n",
    "    # Process each pcap file\n",
    "    for file in pcap_files:\n",
    "        file_path = os.path.join(directory, file)\n",
    "        packets = rdpcap(file_path, count=packet_count)\n",
    "        new_file_name = os.path.splitext(file)[0] + \"_filtered.pcap\"\n",
    "        new_file_path = os.path.join(filtered_dir, new_file_name)\n",
    "        \n",
    "        # Save the filtered packets to the new file\n",
    "        wrpcap(new_file_path, packets)\n",
    "        print(f\"Saved {len(packets)} packets to the file {new_file_path}.\")"
   ]
  },
  {
   "cell_type": "code",
   "execution_count": 17,
   "id": "27ec2893-2c41-4cfc-90c9-fa6a389599ca",
   "metadata": {},
   "outputs": [
    {
     "name": "stdout",
     "output_type": "stream",
     "text": [
      "Saved 2500 packets to the file ../data/raw/filtered/botnet-capture-20110811-neris_filtered.pcap.\n",
      "Saved 2500 packets to the file ../data/raw/filtered/botnet-capture-20110812-rbot_filtered.pcap.\n",
      "Saved 2500 packets to the file ../data/raw/filtered/botnet-capture-20110815-fast-flux-2_filtered.pcap.\n",
      "Saved 2500 packets to the file ../data/raw/filtered/botnet-capture-20110815-fast-flux_filtered.pcap.\n",
      "Saved 2500 packets to the file ../data/raw/filtered/botnet-capture-20110816-sogou_filtered.pcap.\n",
      "Saved 2500 packets to the file ../data/raw/filtered/botnet-capture-20110816-qvod_filtered.pcap.\n",
      "Saved 2500 packets to the file ../data/raw/filtered/botnet-capture-20110815-rbot-dos_filtered.pcap.\n",
      "Saved 2500 packets to the file ../data/raw/filtered/botnet-capture-20110816-donbot_filtered.pcap.\n"
     ]
    }
   ],
   "source": [
    "filter_all_pcap_in_directory(\"../data/raw\", 2500)\n"
   ]
  },
  {
   "cell_type": "code",
   "execution_count": 13,
   "id": "0188d552-1003-46d3-9ee8-e8e67405bc73",
   "metadata": {},
   "outputs": [],
   "source": [
    "def analyze_directory(directory):\n",
    "    for filename in os.listdir(directory):\n",
    "        if filename.endswith('.pcap'):\n",
    "            file_path = os.path.join(directory, filename)\n",
    "            print(f\"Processing: {file_path}\")\n",
    "            \n",
    "            truncated_packets = create_truncated_packets_from_pcap(file_path)\n",
    "            print(f\"Total packets loaded: {len(truncated_packets)}\")\n",
    "            \n",
    "            truncated_packets = assign_flow_ids_to_packets(truncated_packets)\n",
    "            flow_counts = Counter(packet.flow_id for packet in truncated_packets if hasattr(packet, 'flow_id'))\n",
    "            \n",
    "            print(f\"Total flows identified: {len(flow_counts)}\")\n",
    "            #for flow_id, count in sorted(flow_counts.items(), key=lambda x: x[1], reverse=True):\n",
    "                #print(f\"Flow ID: {flow_id}, Number of Packets: {count}\")\n",
    "\n"
   ]
  },
  {
   "cell_type": "code",
   "execution_count": 18,
   "id": "c843c92a-e47c-4cdb-8111-dde2e51440ed",
   "metadata": {},
   "outputs": [
    {
     "name": "stdout",
     "output_type": "stream",
     "text": [
      "Processing: ../data/raw/filtered/botnet-capture-20110816-qvod_filtered.pcap\n",
      "Total packets loaded: 2455\n",
      "hash groups: 48\n",
      "Total flows identified: 68\n",
      "Processing: ../data/raw/filtered/botnet-capture-20110811-neris_filtered.pcap\n",
      "Total packets loaded: 2459\n",
      "hash groups: 71\n",
      "Total flows identified: 72\n",
      "Processing: ../data/raw/filtered/botnet-capture-20110815-rbot-dos_filtered.pcap\n",
      "Total packets loaded: 1403\n",
      "hash groups: 85\n",
      "Total flows identified: 87\n",
      "Processing: ../data/raw/filtered/botnet-capture-20110815-fast-flux-2_filtered.pcap\n",
      "Total packets loaded: 2479\n",
      "hash groups: 217\n",
      "Total flows identified: 243\n",
      "Processing: ../data/raw/filtered/botnet-capture-20110812-rbot_filtered.pcap\n",
      "Total packets loaded: 2470\n",
      "hash groups: 221\n",
      "Total flows identified: 421\n",
      "Processing: ../data/raw/filtered/botnet-capture-20110816-sogou_filtered.pcap\n",
      "Total packets loaded: 2497\n",
      "hash groups: 35\n",
      "Total flows identified: 49\n",
      "Processing: ../data/raw/filtered/botnet-capture-20110815-fast-flux_filtered.pcap\n",
      "Total packets loaded: 2468\n",
      "hash groups: 114\n",
      "Total flows identified: 168\n",
      "Processing: ../data/raw/filtered/botnet-capture-20110816-donbot_filtered.pcap\n",
      "Total packets loaded: 2488\n",
      "hash groups: 194\n",
      "Total flows identified: 203\n"
     ]
    }
   ],
   "source": [
    "analyze_directory(\"../data/raw/filtered\")"
   ]
  },
  {
   "cell_type": "code",
   "execution_count": null,
   "id": "795cd7a2-01f6-49b8-8ab1-ca7f34de6f9a",
   "metadata": {},
   "outputs": [],
   "source": []
  }
 ],
 "metadata": {
  "kernelspec": {
   "display_name": "Python 3 (ipykernel)",
   "language": "python",
   "name": "python3"
  },
  "language_info": {
   "codemirror_mode": {
    "name": "ipython",
    "version": 3
   },
   "file_extension": ".py",
   "mimetype": "text/x-python",
   "name": "python",
   "nbconvert_exporter": "python",
   "pygments_lexer": "ipython3",
   "version": "3.11.0"
  }
 },
 "nbformat": 4,
 "nbformat_minor": 5
}
