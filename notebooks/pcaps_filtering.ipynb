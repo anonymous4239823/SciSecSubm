{
 "cells": [
  {
   "cell_type": "code",
   "execution_count": 1,
   "id": "3f167f01-cada-4cb6-964f-2f16d2d229d8",
   "metadata": {},
   "outputs": [],
   "source": [
    "import sys, os\n",
    "sys.path.append(os.path.abspath('../'))"
   ]
  },
  {
   "cell_type": "code",
   "execution_count": 2,
   "id": "28457e0e-eead-438c-97eb-46658633e29c",
   "metadata": {},
   "outputs": [],
   "source": [
    "from src.utils.flow import *\n",
    "from src.utils.flow_calculations import *\n",
    "from src.utils.restoration import *\n",
    "from src.utils.truncated_packet import *\n",
    "from src.operations.size_perturbation_logic import *\n",
    "from src.operations.timing_perturbation_logic import *\n",
    "from src.operations.calculate_fitness import *"
   ]
  },
  {
   "cell_type": "code",
   "execution_count": 3,
   "id": "c086f9ba-7152-42ba-ae6f-664d7570da36",
   "metadata": {},
   "outputs": [],
   "source": [
    "from scapy.all import rdpcap, wrpcap\n",
    "import os\n",
    "\n",
    "def filter_all_pcap_in_directory(directory, packet_count):\n",
    "    # Check if the directory exists\n",
    "    if not os.path.isdir(directory):\n",
    "        raise NotADirectoryError(\"The specified directory does not exist.\")\n",
    "    \n",
    "    # Create a subdirectory for filtered files\n",
    "    filtered_dir = os.path.join(directory, \"../filtered\")\n",
    "    if not os.path.exists(filtered_dir):\n",
    "        os.makedirs(filtered_dir)\n",
    "    \n",
    "    # List all pcap files in the directory\n",
    "    pcap_files = [f for f in os.listdir(directory) if f.endswith('.pcap')]\n",
    "    \n",
    "    # Process each pcap file\n",
    "    for file in pcap_files:\n",
    "        file_path = os.path.join(directory, file)\n",
    "        packets = rdpcap(file_path, count=packet_count)\n",
    "        new_file_name = os.path.splitext(file)[0] + \".pcap\"\n",
    "        new_file_path = os.path.join(filtered_dir, new_file_name)\n",
    "        \n",
    "        # Save the filtered packets to the new file\n",
    "        wrpcap(new_file_path, packets)\n",
    "        print(f\"Saved {len(packets)} packets to the file {new_file_path}.\")"
   ]
  },
  {
   "cell_type": "code",
   "execution_count": 4,
   "id": "27ec2893-2c41-4cfc-90c9-fa6a389599ca",
   "metadata": {},
   "outputs": [
    {
     "name": "stdout",
     "output_type": "stream",
     "text": [
      "Saved 5000 packets to the file ../data/raw/raw/../filtered/testing_medium.pcap.\n",
      "Saved 5000 packets to the file ../data/raw/raw/../filtered/botnet-capture-20110811-neris.pcap.\n",
      "Saved 5000 packets to the file ../data/raw/raw/../filtered/botnet-capture-20110812-rbot.pcap.\n",
      "Saved 5000 packets to the file ../data/raw/raw/../filtered/botnet-capture-20110815-fast-flux-2.pcap.\n",
      "Saved 5000 packets to the file ../data/raw/raw/../filtered/botnet-capture-20110815-fast-flux.pcap.\n",
      "Saved 5000 packets to the file ../data/raw/raw/../filtered/botnet-capture-20110816-sogou.pcap.\n",
      "Saved 5000 packets to the file ../data/raw/raw/../filtered/botnet-capture-20110816-qvod.pcap.\n",
      "Saved 5000 packets to the file ../data/raw/raw/../filtered/botnet-capture-20110819-bot.pcap.\n",
      "Saved 5000 packets to the file ../data/raw/raw/../filtered/botnet-capture-20110817-bot.pcap.\n",
      "Saved 5000 packets to the file ../data/raw/raw/../filtered/botnet-capture-20110818-bot-2.pcap.\n",
      "Saved 5000 packets to the file ../data/raw/raw/../filtered/botnet-capture-20110815-rbot-dos.pcap.\n",
      "Saved 5000 packets to the file ../data/raw/raw/../filtered/botnet-capture-20110816-donbot.pcap.\n"
     ]
    }
   ],
   "source": [
    "filter_all_pcap_in_directory(\"../data/raw/raw\", 5000)\n"
   ]
  },
  {
   "cell_type": "code",
   "execution_count": 5,
   "id": "0188d552-1003-46d3-9ee8-e8e67405bc73",
   "metadata": {},
   "outputs": [],
   "source": [
    "from collections import Counter\n",
    "\n",
    "def analyze_directory(directory):\n",
    "    for filename in os.listdir(directory):\n",
    "        if filename.endswith('.pcap'):\n",
    "            file_path = os.path.join(directory, filename)\n",
    "            print(f\"Processing: {file_path}\")\n",
    "            \n",
    "            truncated_packets = create_truncated_packets_from_pcap(file_path)\n",
    "            print(f\"Total packets loaded: {len(truncated_packets)}\")\n",
    "            \n",
    "            truncated_packets = assign_flow_ids_to_packets(truncated_packets)\n",
    "            flow_counts = Counter(packet.flow_id for packet in truncated_packets if hasattr(packet, 'flow_id'))\n",
    "            \n",
    "            print(f\"Total flows identified: {len(flow_counts)}\")\n",
    "            #for flow_id, count in sorted(flow_counts.items(), key=lambda x: x[1], reverse=True):\n",
    "                #print(f\"Flow ID: {flow_id}, Number of Packets: {count}\")\n",
    "\n"
   ]
  },
  {
   "cell_type": "code",
   "execution_count": 6,
   "id": "c843c92a-e47c-4cdb-8111-dde2e51440ed",
   "metadata": {},
   "outputs": [
    {
     "name": "stdout",
     "output_type": "stream",
     "text": [
      "Processing: ../data/raw/filtered/testing_medium.pcap\n",
      "Total packets loaded: 4955\n",
      "hash groups: 593\n",
      "Total flows identified: 616\n",
      "Processing: ../data/raw/filtered/botnet-capture-20110811-neris.pcap\n",
      "Total packets loaded: 4955\n",
      "hash groups: 593\n",
      "Total flows identified: 616\n",
      "Processing: ../data/raw/filtered/botnet-capture-20110812-rbot.pcap\n",
      "Total packets loaded: 4958\n",
      "hash groups: 449\n",
      "Total flows identified: 872\n",
      "Processing: ../data/raw/filtered/botnet-capture-20110815-fast-flux-2.pcap\n",
      "Total packets loaded: 4973\n",
      "hash groups: 366\n",
      "Total flows identified: 408\n",
      "Processing: ../data/raw/filtered/botnet-capture-20110815-fast-flux.pcap\n",
      "Total packets loaded: 4968\n",
      "hash groups: 139\n",
      "Total flows identified: 216\n",
      "Processing: ../data/raw/filtered/botnet-capture-20110816-sogou.pcap\n",
      "Total packets loaded: 4997\n",
      "hash groups: 35\n",
      "Total flows identified: 50\n",
      "Processing: ../data/raw/filtered/botnet-capture-20110816-qvod.pcap\n",
      "Total packets loaded: 4943\n",
      "hash groups: 57\n",
      "Total flows identified: 83\n",
      "Processing: ../data/raw/filtered/botnet-capture-20110819-bot.pcap\n",
      "Total packets loaded: 4940\n",
      "hash groups: 62\n",
      "Total flows identified: 70\n",
      "Processing: ../data/raw/filtered/botnet-capture-20110817-bot.pcap\n",
      "Total packets loaded: 4843\n",
      "hash groups: 145\n",
      "Total flows identified: 181\n",
      "Processing: ../data/raw/filtered/botnet-capture-20110818-bot-2.pcap\n",
      "Total packets loaded: 1200\n",
      "hash groups: 242\n",
      "Total flows identified: 246\n",
      "Processing: ../data/raw/filtered/botnet-capture-20110815-rbot-dos.pcap\n",
      "Total packets loaded: 2653\n",
      "hash groups: 85\n",
      "Total flows identified: 87\n",
      "Processing: ../data/raw/filtered/botnet-capture-20110816-donbot.pcap\n",
      "Total packets loaded: 4952\n",
      "hash groups: 657\n",
      "Total flows identified: 683\n"
     ]
    }
   ],
   "source": [
    "analyze_directory(\"../data/raw/filtered\")"
   ]
  },
  {
   "cell_type": "code",
   "execution_count": null,
   "id": "795cd7a2-01f6-49b8-8ab1-ca7f34de6f9a",
   "metadata": {},
   "outputs": [],
   "source": []
  }
 ],
 "metadata": {
  "kernelspec": {
   "display_name": "Python 3 (ipykernel)",
   "language": "python",
   "name": "python3"
  },
  "language_info": {
   "codemirror_mode": {
    "name": "ipython",
    "version": 3
   },
   "file_extension": ".py",
   "mimetype": "text/x-python",
   "name": "python",
   "nbconvert_exporter": "python",
   "pygments_lexer": "ipython3",
   "version": "3.11.0"
  }
 },
 "nbformat": 4,
 "nbformat_minor": 5
}
